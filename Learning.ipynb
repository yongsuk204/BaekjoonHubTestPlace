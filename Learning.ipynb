{
 "cells": [
  {
   "cell_type": "markdown",
   "metadata": {},
   "source": [
    "### 250119  ###\n",
    "1. 백준 입력을 vscode 확장을 통해서 입출력을 받아볼 수 있다.\n",
    "2. max()  / 문제번호 : 10818\n",
    "words = [\"apple\", \"banana\", \"cherry\"]\n",
    "print(max(words, key=len))  # 출력: banana (길이가 가장 긴 단어)\n",
    "scores = {\"Alice\": 90, \"Bob\": 85, \"Charlie\": 92}\n",
    "print(max(scores, key=scores.get))  # 출력: Charlie (점수가 가장 높은 사람)\n",
    "\n",
    "\n",
    "### 250120 ###\n",
    "1. git pull 할때는 뭐 붙히지말고 영문 그대로만 쓰면됨.... 이거몰라서 헤맸다ㅠㅠㅠㅠ\n",
    "2. 백준문제 10869 는 인풋을 a,b = input().split() 이렇게 했다 아직도 잘 모르겠음..ㅠ\n",
    "3. 백준 25206 실수를 정수화int()를 붙이면 소수점사라져버린다\n",
    "\n",
    "\n",
    "### 250121 ###\n",
    "1. 백준 5086\n",
    "    a,b 입력값을 반복문 안으로 넣어야한다, 그렇지 않으면 입력값은 1개뿐이라 무한반복된다.\n",
    "2. 백준 10811\n",
    "    print(*result)\n",
    "    => 공백으로 구분하여 각각 출력한다. 처음알았다\n",
    "    \n",
    "    N_basket[i-1:j] = N_basket[i-1:j][::-1]\n",
    "    => 해당 자리에 넣는다. \n",
    "        넣을자리가 안맞으면 리스트형태로 들어간다. [1,2,[3,4],5,6] 이런식\n",
    "        넣을자리가 슬라이싱된거랑 인덱스크기가 맞으면 [1,2,3,4,5,6] 이렇게 들어감\n",
    "    \n",
    "    for _ in\n",
    "    => 반복문에 _ 들어갈 수 있는거 처음알았다.\n",
    "        Python에서 for _ in 구문은 반복문에서 반복 변수에 값을 할당하지 않고 반복을 실행하려는 경우에 사용,\n",
    "        여기서 밑줄 문자 '_' 는 변수를 사용하지 않을 때 관용적으로 사용되는 이름이다.\n",
    "3. 백준 2562\n",
    "    * 입력은 str, .split()는 list 형태로 반환된다.\n",
    "    따라서 반복문을 구현할때 이 부분을 타입지정을 해야 출력값에 반영된다\n",
    "\n",
    "4. a,b= map(int,input().split())\n",
    "    언패킹되어서 할당됨, a,b = [int(input()), int(input())]\n",
    "    a = int(input())\n",
    "    b = int(input())\n",
    "\n",
    "\n",
    "### 250122 ###\n",
    "1.  [리스트] + [리스트] = [리스트, 리스트]\n",
    "    리스트.append(리스트) = [[리스트]]      # 둘의 차이는 대괄호중첩의 차이가 있다.\n",
    "\n",
    "\n",
    "for i in range(n):\n",
    "    for j in range(m):\n",
    "        print(arr1[i][j],end=' ')\n",
    "        print()     \n",
    "        # 이렇게하면 구구단처럼 된다, 상위 반복문에 포함된것 = 하위반복문이 끝나면 실행됨\n",
    "\n",
    "\n",
    "### 250128 ###\n",
    "* 문자열타입에서 인덱싱으로 해당자리만 뽑을 수 있는것처럼, 숫자도 첫번째 자리에 있는 수, 두번째 자리에 있는 수 를 추출할 수 있는 방법이 있다.\n",
    "    * 예를들면 주어진 숫자 // 10  (10의 자리에있는 숫자), 주어진숫자 % 10 (1의 자리에있는숫자)\n",
    "\n",
    "### 250201 ###\n",
    "    total_place = []\n",
    "    a = input()\n",
    "    for i in range(5):\n",
    "        total_one_row = [0] * 5\n",
    "        total_place.append(total_one_row)\n",
    "\n",
    "1. total_place = [] 를 반복문 밖에 있게되면 전역변수 이기 때문에 5개의 행이 모두 동일한것으로, 1개 행만 수정해도 전체 행이 모두 수정됨 = 왜냐면 같은 객체이기때문에 = 하나의 전역변수로 배열을 만들었기 때문에\n",
    "따라서 반복문 안쪽으로 넣어줘야 서로다른 각각의 행(객체) 가 됨됨\n"
   ]
  },
  {
   "cell_type": "markdown",
   "metadata": {},
   "source": [
    "# 250207\n",
    "\n",
    "* 백준 2960\n",
    "    * 반복문에 들어가는 인덱스 숫자 설정 잘 해야함,\n",
    "    * 리스트 인덱스는 0부터 시작한다는점 기억해야함!"
   ]
  },
  {
   "cell_type": "code",
   "execution_count": null,
   "metadata": {},
   "outputs": [
    {
     "name": "stderr",
     "output_type": "stream",
     "text": [
      "2025-02-15 00:08:17.865 Python[34424:1767962] WARNING: AVCaptureDeviceTypeExternal is deprecated for Continuity Cameras. Please use AVCaptureDeviceTypeContinuityCamera and add NSCameraUseContinuityCameraDeviceType to your Info.plist.\n",
      "WARNING: All log messages before absl::InitializeLog() is called are written to STDERR\n",
      "I0000 00:00:1739545698.481186 1767962 gl_context.cc:369] GL version: 2.1 (2.1 Metal - 89.3), renderer: Apple M4\n",
      "INFO: Created TensorFlow Lite XNNPACK delegate for CPU.\n",
      "W0000 00:00:1739545698.544519 1895380 inference_feedback_manager.cc:114] Feedback manager requires a model with a single signature inference. Disabling support for feedback tensors.\n",
      "W0000 00:00:1739545698.560960 1895384 inference_feedback_manager.cc:114] Feedback manager requires a model with a single signature inference. Disabling support for feedback tensors.\n",
      "2025-02-15 00:08:18.941 Python[34424:1767962] +[IMKClient subclass]: chose IMKClient_Modern\n",
      "2025-02-15 00:08:18.941 Python[34424:1767962] +[IMKInputSession subclass]: chose IMKInputSession_Modern\n",
      "W0000 00:00:1739545700.995805 1895378 landmark_projection_calculator.cc:186] Using NORM_RECT without IMAGE_DIMENSIONS is only supported for the square ROI. Provide IMAGE_DIMENSIONS or use PROJECTION_MATRIX.\n"
     ]
    },
    {
     "ename": "",
     "evalue": "",
     "output_type": "error",
     "traceback": [
      "\u001b[1;31mThe Kernel crashed while executing code in the current cell or a previous cell. \n",
      "\u001b[1;31mPlease review the code in the cell(s) to identify a possible cause of the failure. \n",
      "\u001b[1;31mClick <a href='https://aka.ms/vscodeJupyterKernelCrash'>here</a> for more info. \n",
      "\u001b[1;31mView Jupyter <a href='command:jupyter.viewOutput'>log</a> for further details."
     ]
    }
   ],
   "source": [
    "import cv2\n",
    "import mediapipe as mp\n",
    "\n",
    "# MediaPipe Pose 모듈 로드\n",
    "mp_pose = mp.solutions.pose\n",
    "mp_drawing = mp.solutions.drawing_utils\n",
    "\n",
    "# 웹캠 열기\n",
    "cap = cv2.VideoCapture(0)\n",
    "\n",
    "# Pose Estimation 모델 실행\n",
    "with mp_pose.Pose(min_detection_confidence=0.5, min_tracking_confidence=0.5) as pose:\n",
    "    while cap.isOpened():\n",
    "        ret, frame = cap.read()\n",
    "        if not ret:\n",
    "            break\n",
    "\n",
    "        # BGR -> RGB 변환 (MediaPipe는 RGB를 사용)\n",
    "        frame_rgb = cv2.cvtColor(frame, cv2.COLOR_BGR2RGB)\n",
    "        results = pose.process(frame_rgb)\n",
    "\n",
    "        # 포즈 감지 결과가 있다면\n",
    "        if results.pose_landmarks:\n",
    "            # 프레임에 포즈 랜드마크 그리기\n",
    "            mp_drawing.draw_landmarks(frame, results.pose_landmarks, mp_pose.POSE_CONNECTIONS)\n",
    "\n",
    "        # 화면에 출력\n",
    "        cv2.imshow(\"Pose Estimation\", frame)\n",
    "\n",
    "        # ESC 키를 누르면 종료\n",
    "        if cv2.waitKey(1) & 0xFF == 27:\n",
    "            break\n",
    "\n",
    "# 정리\n",
    "cap.release()\n",
    "cv2.destroyAllWindows()"
   ]
  },
  {
   "cell_type": "code",
   "execution_count": null,
   "metadata": {},
   "outputs": [
    {
     "name": "stderr",
     "output_type": "stream",
     "text": [
      "WARNING: All log messages before absl::InitializeLog() is called are written to STDERR\n",
      "I0000 00:00:1739545818.911407 1897002 gl_context.cc:369] GL version: 2.1 (2.1 Metal - 89.3), renderer: Apple M4\n",
      "INFO: Created TensorFlow Lite XNNPACK delegate for CPU.\n",
      "W0000 00:00:1739545818.962971 1897962 inference_feedback_manager.cc:114] Feedback manager requires a model with a single signature inference. Disabling support for feedback tensors.\n",
      "2025-02-15 00:10:18.971 Python[59966:1897002] WARNING: AVCaptureDeviceTypeExternal is deprecated for Continuity Cameras. Please use AVCaptureDeviceTypeContinuityCamera and add NSCameraUseContinuityCameraDeviceType to your Info.plist.\n",
      "W0000 00:00:1739545818.971794 1897964 inference_feedback_manager.cc:114] Feedback manager requires a model with a single signature inference. Disabling support for feedback tensors.\n",
      "W0000 00:00:1739545819.640651 1897970 landmark_projection_calculator.cc:186] Using NORM_RECT without IMAGE_DIMENSIONS is only supported for the square ROI. Provide IMAGE_DIMENSIONS or use PROJECTION_MATRIX.\n",
      "2025-02-15 00:10:20.105 Python[59966:1897002] +[IMKClient subclass]: chose IMKClient_Modern\n",
      "2025-02-15 00:10:20.105 Python[59966:1897002] +[IMKInputSession subclass]: chose IMKInputSession_Modern\n"
     ]
    },
    {
     "ename": "",
     "evalue": "",
     "output_type": "error",
     "traceback": [
      "\u001b[1;31mThe Kernel crashed while executing code in the current cell or a previous cell. \n",
      "\u001b[1;31mPlease review the code in the cell(s) to identify a possible cause of the failure. \n",
      "\u001b[1;31mClick <a href='https://aka.ms/vscodeJupyterKernelCrash'>here</a> for more info. \n",
      "\u001b[1;31mView Jupyter <a href='command:jupyter.viewOutput'>log</a> for further details."
     ]
    }
   ],
   "source": [
    "import cv2\n",
    "import mediapipe as mp\n",
    "\n",
    "# 미디어파이프 포즈 모델 설정\n",
    "mp_pose = mp.solutions.pose\n",
    "pose = mp_pose.Pose(min_detection_confidence=0.5, min_tracking_confidence=0.5)\n",
    "\n",
    "# 그리기 유틸리티\n",
    "mp_drawing = mp.solutions.drawing_utils\n",
    "\n",
    "# 웹캠에서 영상 캡처\n",
    "cap = cv2.VideoCapture(0)\n",
    "\n",
    "while cap.isOpened():\n",
    "    ret, frame = cap.read()\n",
    "    if not ret:\n",
    "        continue\n",
    "    \n",
    "    # BGR을 RGB로 변환 (미디어파이프는 RGB 포맷을 사용)\n",
    "    rgb_frame = cv2.cvtColor(frame, cv2.COLOR_BGR2RGB)\n",
    "\n",
    "    # 포즈 추정\n",
    "    results = pose.process(rgb_frame)\n",
    "\n",
    "    # 추정된 포즈가 있으면 랜드마크를 그리기\n",
    "    if results.pose_landmarks:\n",
    "        mp_drawing.draw_landmarks(frame, results.pose_landmarks, mp_pose.POSE_CONNECTIONS)\n",
    "\n",
    "    # 결과 영상 표시\n",
    "    cv2.imshow(\"Pose Estimation\", frame)\n",
    "\n",
    "    # 종료 조건 (ESC 키)\n",
    "    if cv2.waitKey(1) & 0xFF == 27:\n",
    "        break\n",
    "\n",
    "cap.release()\n",
    "cv2.destroyAllWindows()\n"
   ]
  },
  {
   "cell_type": "code",
   "execution_count": null,
   "metadata": {},
   "outputs": [
    {
     "name": "stderr",
     "output_type": "stream",
     "text": [
      "WARNING: All log messages before absl::InitializeLog() is called are written to STDERR\n",
      "I0000 00:00:1739549033.207727 1975501 gl_context.cc:369] GL version: 2.1 (2.1 Metal - 89.3), renderer: Apple M4\n",
      "INFO: Created TensorFlow Lite XNNPACK delegate for CPU.\n",
      "W0000 00:00:1739549033.259907 1975731 inference_feedback_manager.cc:114] Feedback manager requires a model with a single signature inference. Disabling support for feedback tensors.\n",
      "W0000 00:00:1739549033.268211 1975730 inference_feedback_manager.cc:114] Feedback manager requires a model with a single signature inference. Disabling support for feedback tensors.\n",
      "W0000 00:00:1739549033.280157 1975729 landmark_projection_calculator.cc:186] Using NORM_RECT without IMAGE_DIMENSIONS is only supported for the square ROI. Provide IMAGE_DIMENSIONS or use PROJECTION_MATRIX.\n",
      "2025-02-15 01:03:53.628 Python[64517:1975501] +[IMKClient subclass]: chose IMKClient_Modern\n",
      "2025-02-15 01:03:53.628 Python[64517:1975501] +[IMKInputSession subclass]: chose IMKInputSession_Modern\n"
     ]
    },
    {
     "ename": "",
     "evalue": "",
     "output_type": "error",
     "traceback": [
      "\u001b[1;31mThe Kernel crashed while executing code in the current cell or a previous cell. \n",
      "\u001b[1;31mPlease review the code in the cell(s) to identify a possible cause of the failure. \n",
      "\u001b[1;31mClick <a href='https://aka.ms/vscodeJupyterKernelCrash'>here</a> for more info. \n",
      "\u001b[1;31mView Jupyter <a href='command:jupyter.viewOutput'>log</a> for further details."
     ]
    }
   ],
   "source": [
    "import cv2\n",
    "import mediapipe as mp\n",
    "\n",
    "mp_pose = mp.solutions.pose\n",
    "pose = mp_pose.Pose(min_detection_confidence=0.6, min_tracking_confidence=0.6)\n",
    "mp_drawing = mp.solutions.drawing_utils\n",
    "\n",
    "cap = cv2.VideoCapture('/Users/laxdin24/Downloads/IMG_0249.MP4')  # 동영상 파일 경로\n",
    "\n",
    "while cap.isOpened():\n",
    "    ret, frame = cap.read()\n",
    "    if not ret:\n",
    "        break\n",
    "\n",
    "    rgb_frame = cv2.cvtColor(frame, cv2.COLOR_BGR2RGB)\n",
    "    results = pose.process(rgb_frame)\n",
    "\n",
    "    if results.pose_landmarks:\n",
    "        mp_drawing.draw_landmarks(frame, results.pose_landmarks, mp_pose.POSE_CONNECTIONS)\n",
    "\n",
    "    cv2.imshow(\"Pose Estimation\", frame)\n",
    "\n",
    "    if cv2.waitKey(1) & 0xFF == 27:  # ESC 키로 종료\n",
    "        break\n",
    "\n",
    "cap.release()\n",
    "cv2.destroyAllWindows()"
   ]
  }
 ],
 "metadata": {
  "kernelspec": {
   "display_name": "Python 3",
   "language": "python",
   "name": "python3"
  },
  "language_info": {
   "codemirror_mode": {
    "name": "ipython",
    "version": 3
   },
   "file_extension": ".py",
   "mimetype": "text/x-python",
   "name": "python",
   "nbconvert_exporter": "python",
   "pygments_lexer": "ipython3",
   "version": "3.11.8"
  }
 },
 "nbformat": 4,
 "nbformat_minor": 2
}
