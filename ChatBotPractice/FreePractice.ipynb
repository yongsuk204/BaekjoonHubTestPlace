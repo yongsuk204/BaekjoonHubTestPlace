{
 "cells": [
  {
   "cell_type": "code",
   "execution_count": 1,
   "metadata": {},
   "outputs": [
    {
     "name": "stdout",
     "output_type": "stream",
     "text": [
      "1등: 95점\n",
      "2등: 87점\n",
      "3등: 92점\n",
      "4등: 88점\n",
      "5등: 75점\n"
     ]
    }
   ],
   "source": [
    "# 문제: \n",
    "# 학생들의 점수가 담긴 리스트가 있습니다.\n",
    "# enumerate()를 사용하여 각 학생의 순위와 점수를 출력하세요.\n",
    "# 출력 형식: \"n등: 점수점\"\n",
    "\n",
    "scores = [95, 87, 92, 88, 75]\n",
    "\n",
    "for i, scores in enumerate(scores):    # start=1로 설정하여 1등부터 시작\n",
    "    print(f\"{i+1}등: {scores}점\")"
   ]
  },
  {
   "cell_type": "code",
   "execution_count": 3,
   "metadata": {},
   "outputs": [
    {
     "name": "stdout",
     "output_type": "stream",
     "text": [
      "위치: 0, : e\n",
      "위치: 2, : e\n",
      "위치: 5, : a\n"
     ]
    }
   ],
   "source": [
    "# 문제:\n",
    "# 영단어가 주어집니다.\n",
    "# enumerate()를 사용하여 모음(a,e,i,o,u)이 있는 위치와 \n",
    "# 해당 모음을 출력하세요.\n",
    "\n",
    "word = \"elephant\"\n",
    "\n",
    "for i, char in enumerate(word):\n",
    "    if char in \"aeiou\":\n",
    "        print(f\"위치: {i}, : {char}\")"
   ]
  },
  {
   "cell_type": "code",
   "execution_count": 4,
   "metadata": {},
   "outputs": [
    {
     "name": "stdout",
     "output_type": "stream",
     "text": [
      "공백의 위치: 6\n",
      "공백의 위치: 9\n",
      "공백의 위치: 14\n"
     ]
    }
   ],
   "source": [
    "\n",
    "# 문제:\n",
    "# 주어진 문장에서 공백의 위치를 enumerate()를 사용해 찾아보세요.\n",
    "\n",
    "sentence = \"Python is very easy\"\n",
    "\n",
    "for pos, char in enumerate(sentence):\n",
    "    if char == \" \":\n",
    "        print(f\"공백의 위치: {pos}\")\n",
    "\n",
    "# 예상 출력:\n",
    "# 공백의 위치: 6\n",
    "# 공백의 위치: 9\n",
    "# 공백의 위치: 14\n"
   ]
  },
  {
   "cell_type": "code",
   "execution_count": 5,
   "metadata": {},
   "outputs": [
    {
     "name": "stdout",
     "output_type": "stream",
     "text": [
      "1번: 김철수\n",
      "2번: 박민지\n",
      "4번: 정미나\n"
     ]
    }
   ],
   "source": [
    "# 문제:\n",
    "# 여러 명의 학생 이름이 담긴 리스트가 있습니다.\n",
    "# enumerate()를 사용하여 다음 조건을 만족하는 결과를 출력하세요:\n",
    "# 1. 이름이 3글자인 학생의 번호와 이름을 출력\n",
    "# 2. 출력 시 번호는 1번부터 시작\n",
    "\n",
    "students = ['김철수', '박민지', '이수', '정미나', '최준']\n",
    "\n",
    "for index_a, name in enumerate(students, start=1):\n",
    "    if len(name) == 3:\n",
    "        print(f\"{index_a}번: {name}\")\n",
    "\n",
    "# 출력 예시:\n",
    "# 1번: 김철수\n",
    "# 2번: 정미나"
   ]
  },
  {
   "cell_type": "code",
   "execution_count": 33,
   "metadata": {},
   "outputs": [
    {
     "name": "stdout",
     "output_type": "stream",
     "text": [
      "hElLo wOrLd123!\n"
     ]
    }
   ],
   "source": [
    "# enumerate() 함수는 반복문에서 인덱스와 값을 동시에 다룰 때 유용합니다. 이를 활용한 문제를 만들어볼게요!\n",
    "\n",
    "# 📝 문제: 홀수 인덱스 대문자 변환하기\n",
    "\n",
    "# 문자열 s가 주어졌을 때, 홀수 인덱스에 위치한 알파벳만 대문자로 변환하고 나머지는 그대로 유지하는 함수를 작성하세요.\n",
    "\n",
    "# 조건\n",
    "# \t•\t인덱스는 0부터 시작합니다.\n",
    "# \t•\t대문자 변환은 알파벳(a-z, A-Z)에만 적용합니다.\n",
    "# \t•\t숫자나 특수문자는 그대로 둡니다.\n",
    "\n",
    "# 입력 예시\n",
    "\n",
    "s = \"hello world123!\"\n",
    "\n",
    "for i, char in enumerate(s):\n",
    "    if (i % 2 == 1) and char.isalpha():\n",
    "        s = s[:i] + char.upper() + s[i+1:]      # 대문자로 변환 후 다시 문자열에 저장 / i-1번째 문자까지 + i 번째 문자를 대문자로 변환한 문자 + i+1번째 문자부터 끝까지\n",
    "\n",
    "        \n",
    "print(s)\n",
    "\n",
    "# 출력 예시\n",
    "\n",
    "# \"hElLo wOrLd123!\"\n",
    "\n",
    "# 힌트\n",
    "# \t•\tenumerate()를 사용해 인덱스와 문자를 함께 다루세요.\n",
    "# \t•\t문자열은 **불변(immutable)**이므로 리스트로 변환 후 수정하거나 문자열 덧붙이기를 사용하세요.\n",
    "\n",
    "# 이 문제는 enumerate()를 활용해 인덱스를 쉽게 추적하면서 조건에 따라 문자를 변환하는 훈련이 됩니다. 필요하시면 정답 코드도 제공해드릴게요! 😊"
   ]
  },
  {
   "cell_type": "code",
   "execution_count": null,
   "metadata": {},
   "outputs": [],
   "source": []
  }
 ],
 "metadata": {
  "kernelspec": {
   "display_name": "Python 3",
   "language": "python",
   "name": "python3"
  },
  "language_info": {
   "codemirror_mode": {
    "name": "ipython",
    "version": 3
   },
   "file_extension": ".py",
   "mimetype": "text/x-python",
   "name": "python",
   "nbconvert_exporter": "python",
   "pygments_lexer": "ipython3",
   "version": "3.13.1"
  }
 },
 "nbformat": 4,
 "nbformat_minor": 2
}
